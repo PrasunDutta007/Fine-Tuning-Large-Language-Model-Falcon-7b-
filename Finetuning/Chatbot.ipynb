{
 "cells": [
  {
   "cell_type": "markdown",
   "metadata": {},
   "source": [
    "<h2>Importing Libraries</h2>"
   ]
  },
  {
   "cell_type": "code",
   "execution_count": 1,
   "metadata": {},
   "outputs": [
    {
     "name": "stderr",
     "output_type": "stream",
     "text": [
      "/home/zeus/miniconda3/envs/cloudspace/lib/python3.10/site-packages/transformers/utils/generic.py:260: UserWarning: torch.utils._pytree._register_pytree_node is deprecated. Please use torch.utils._pytree.register_pytree_node instead.\n",
      "  torch.utils._pytree._register_pytree_node(\n"
     ]
    }
   ],
   "source": [
    "import torch\n",
    "from datasets import load_dataset\n",
    "from transformers import AutoModelForCausalLM, AutoTokenizer, BitsAndBytesConfig, TrainingArguments, GenerationConfig\n",
    "from peft import LoraConfig, get_peft_model, PeftConfig, PeftModel, prepare_model_for_kbit_training\n",
    "from trl import SFTTrainer\n",
    "import warnings\n",
    "warnings.filterwarnings(\"ignore\")"
   ]
  },
  {
   "cell_type": "markdown",
   "metadata": {},
   "source": [
    "<h2>Loading Original & PEFT Model </h2>"
   ]
  },
  {
   "cell_type": "code",
   "execution_count": 2,
   "metadata": {},
   "outputs": [
    {
     "data": {
      "application/vnd.jupyter.widget-view+json": {
       "model_id": "8472080d36fb487882e3f8a6c9e4632b",
       "version_major": 2,
       "version_minor": 0
      },
      "text/plain": [
       "Loading checkpoint shards:   0%|          | 0/8 [00:00<?, ?it/s]"
      ]
     },
     "metadata": {},
     "output_type": "display_data"
    }
   ],
   "source": [
    "# Loading original model\n",
    "model_name = \"ybelkada/falcon-7b-sharded-bf16\"\n",
    "\n",
    "bnb_config = BitsAndBytesConfig(\n",
    "    load_in_4bit=True,\n",
    "    bnb_4bit_quant_type=\"nf4\",\n",
    "    bnb_4bit_use_double_quant=True,\n",
    "    bnb_4bit_compute_dtype=torch.float16,\n",
    ")\n",
    "\n",
    "model = AutoModelForCausalLM.from_pretrained(\n",
    "    model_name,\n",
    "    quantization_config=bnb_config,\n",
    "    device_map=\"auto\",\n",
    "    trust_remote_code=True,\n",
    ")\n",
    "\n",
    "tokenizer = AutoTokenizer.from_pretrained(model_name, trust_remote_code=True)\n",
    "tokenizer.pad_token = tokenizer.eos_token"
   ]
  },
  {
   "cell_type": "code",
   "execution_count": 3,
   "metadata": {},
   "outputs": [
    {
     "data": {
      "application/vnd.jupyter.widget-view+json": {
       "model_id": "770574f9146b4544a5917cc68fac63e6",
       "version_major": 2,
       "version_minor": 0
      },
      "text/plain": [
       "Loading checkpoint shards:   0%|          | 0/8 [00:00<?, ?it/s]"
      ]
     },
     "metadata": {},
     "output_type": "display_data"
    }
   ],
   "source": [
    "# Loading PEFT model\n",
    "PEFT_MODEL = \"/teamspace/studios/this_studio/falcon-7b-sharded-bf16-finetuned-treccast\"\n",
    "\n",
    "config = PeftConfig.from_pretrained(PEFT_MODEL)\n",
    "peft_base_model = AutoModelForCausalLM.from_pretrained(\n",
    "    config.base_model_name_or_path,\n",
    "    return_dict=True,\n",
    "    quantization_config=bnb_config,\n",
    "    device_map=\"auto\",\n",
    "    trust_remote_code=True,\n",
    ")\n",
    "\n",
    "peft_model = PeftModel.from_pretrained(peft_base_model, PEFT_MODEL)\n",
    "\n",
    "peft_tokenizer = AutoTokenizer.from_pretrained(config.base_model_name_or_path)\n",
    "peft_tokenizer.pad_token = peft_tokenizer.eos_token"
   ]
  },
  {
   "cell_type": "markdown",
   "metadata": {},
   "source": [
    "<h2>Creating Gradio Chatbot using our Fine-Tuned Model</h2>"
   ]
  },
  {
   "cell_type": "code",
   "execution_count": 5,
   "metadata": {},
   "outputs": [
    {
     "name": "stdout",
     "output_type": "stream",
     "text": [
      "Running on local URL:  http://127.0.0.1:7861\n",
      "\n",
      "To create a public link, set `share=True` in `launch()`.\n"
     ]
    },
    {
     "data": {
      "text/html": [
       "<div><iframe src=\"http://127.0.0.1:7861/\" width=\"100%\" height=\"500\" allow=\"autoplay; camera; microphone; clipboard-read; clipboard-write;\" frameborder=\"0\" allowfullscreen></iframe></div>"
      ],
      "text/plain": [
       "<IPython.core.display.HTML object>"
      ]
     },
     "metadata": {},
     "output_type": "display_data"
    },
    {
     "data": {
      "text/plain": []
     },
     "execution_count": 5,
     "metadata": {},
     "output_type": "execute_result"
    }
   ],
   "source": [
    "import gradio as gr\n",
    "\n",
    "# Initialize PEFT model and tokenizer\n",
    "#def init_model_and_tokenizer(PEFT_MODEL):\n",
    "    #tokenizer = AutoTokenizer.from_pretrained(PEFT_MODEL)\n",
    "    #model = AutoModelForCausalLM.from_pretrained(PEFT_MODEL, torch_dtype=torch.bfloat16).to('cuda:0' if torch.cuda.is_available() else 'cpu')\n",
    "    #return model, tokenizer\n",
    "\n",
    "# Custom LLM chain for PEFT model\n",
    "class CustomLLM:\n",
    "    def __init__(self, peft_model, peft_tokenizer):\n",
    "        self.peft_model = peft_model\n",
    "        self.peft_tokenizer = peft_tokenizer\n",
    "        self.device = \"cuda:0\" if torch.cuda.is_available() else \"cpu\"\n",
    "\n",
    "    def run(self, prompt):\n",
    "        peft_encoding = self.peft_tokenizer(prompt, return_tensors=\"pt\").to(self.device)\n",
    "        peft_outputs = self.peft_model.generate(\n",
    "            input_ids=peft_encoding.input_ids,\n",
    "            generation_config=GenerationConfig(\n",
    "                max_new_tokens=256,\n",
    "                pad_token_id=self.peft_tokenizer.eos_token_id,\n",
    "                eos_token_id=self.peft_tokenizer.eos_token_id,\n",
    "                attention_mask=peft_encoding.attention_mask,\n",
    "                temperature=0.6,\n",
    "                top_p=0.7,\n",
    "                repetition_penalty=1.2,\n",
    "                num_return_sequences=1,\n",
    "            ),\n",
    "        )\n",
    "        peft_text_output = self.peft_tokenizer.decode(peft_outputs[0], skip_special_tokens=True)\n",
    "        return post_process_chat(peft_text_output)\n",
    "\n",
    "# Post-processing function for chatbot response\n",
    "def post_process_chat(bot_message):\n",
    "    bot_message = bot_message.strip()\n",
    "    return bot_message\n",
    "\n",
    "# Function to handle chat interaction and maintain history\n",
    "def chat_with_history(query, chat_history):\n",
    "    chat_history.append((\"User\", query))\n",
    "    prompt = f\"User: {query}\\nBot:\"\n",
    "    bot_message = llm_chain.run(prompt)\n",
    "    chat_history.append((\"Bot\", bot_message))\n",
    "    return chat_history, chat_history\n",
    "\n",
    "\n",
    "# Initialize LLM chain\n",
    "llm_chain = CustomLLM(peft_model, peft_tokenizer)\n",
    "\n",
    "# Initialize Gradio interface\n",
    "with gr.Blocks() as demo:\n",
    "    chatbot = gr.Chatbot()\n",
    "    query = gr.Textbox(label=\"Type your query here\", placeholder=\"Enter your query...\")\n",
    "    clear = gr.Button(\"Clear Chat History\")\n",
    "\n",
    "    chat_history = []\n",
    "\n",
    "    def respond(query, chat_history):\n",
    "        chat_history, response = chat_with_history(query, chat_history)\n",
    "        return chat_history, chat_history\n",
    "\n",
    "    query.submit(respond, inputs=[query, chatbot], outputs=[chatbot, chatbot])\n",
    "    clear.click(lambda: [], None, chatbot, queue=False)\n",
    "\n",
    "demo.launch()\n"
   ]
  }
 ],
 "metadata": {
  "kernelspec": {
   "display_name": "Python 3",
   "language": "python",
   "name": "python3"
  },
  "language_info": {
   "codemirror_mode": {
    "name": "ipython",
    "version": 3
   },
   "file_extension": ".py",
   "mimetype": "text/x-python",
   "name": "python",
   "nbconvert_exporter": "python",
   "pygments_lexer": "ipython3",
   "version": "3.10.10"
  }
 },
 "nbformat": 4,
 "nbformat_minor": 4
}
